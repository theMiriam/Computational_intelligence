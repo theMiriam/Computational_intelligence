{
 "cells": [
  {
   "cell_type": "code",
   "execution_count": 2,
   "metadata": {},
   "outputs": [
    {
     "ename": "ModuleNotFoundError",
     "evalue": "No module named 'numpy'",
     "output_type": "error",
     "traceback": [
      "\u001b[1;31m---------------------------------------------------------------------------\u001b[0m",
      "\u001b[1;31mModuleNotFoundError\u001b[0m                       Traceback (most recent call last)",
      "\u001b[1;32mc:\\Users\\miria\\Desktop\\Computational_intelligence\\Nuova cartella\\set covering alg.ipynb Cell 1\u001b[0m line \u001b[0;36m6\n\u001b[0;32m      <a href='vscode-notebook-cell:/c%3A/Users/miria/Desktop/Computational_intelligence/Nuova%20cartella/set%20covering%20alg.ipynb#W0sZmlsZQ%3D%3D?line=3'>4</a>\u001b[0m \u001b[39mfrom\u001b[39;00m \u001b[39mcollections\u001b[39;00m \u001b[39mimport\u001b[39;00m namedtuple\n\u001b[0;32m      <a href='vscode-notebook-cell:/c%3A/Users/miria/Desktop/Computational_intelligence/Nuova%20cartella/set%20covering%20alg.ipynb#W0sZmlsZQ%3D%3D?line=4'>5</a>\u001b[0m \u001b[39mfrom\u001b[39;00m \u001b[39mqueue\u001b[39;00m \u001b[39mimport\u001b[39;00m PriorityQueue \u001b[39m#for the frontier\u001b[39;00m\n\u001b[1;32m----> <a href='vscode-notebook-cell:/c%3A/Users/miria/Desktop/Computational_intelligence/Nuova%20cartella/set%20covering%20alg.ipynb#W0sZmlsZQ%3D%3D?line=5'>6</a>\u001b[0m \u001b[39mimport\u001b[39;00m \u001b[39mnumpy\u001b[39;00m \u001b[39mas\u001b[39;00m \u001b[39mnp\u001b[39;00m\n",
      "\u001b[1;31mModuleNotFoundError\u001b[0m: No module named 'numpy'"
     ]
    }
   ],
   "source": [
    "from random import random\n",
    "import operator\n",
    "from functools import reduce #for use reduce function\n",
    "from collections import namedtuple\n",
    "from queue import PriorityQueue #for the frontier\n",
    "import numpy as np"
   ]
  },
  {
   "cell_type": "code",
   "execution_count": null,
   "metadata": {},
   "outputs": [],
   "source": [
    "PROBLEM_SIZE = 20\n",
    "NUM_SETS = 64\n",
    "\n",
    "#this line create an array of \"PROBLEM_SIZE\" size with random boolean value\n",
    "#np.array([random() < .2 for _ in range(PROBLEM_SIZE)])\n",
    "#This line create a set that have the total number of sets and put it in a tuple\n",
    "SETS = tuple ( ( np.array([random() < .2 for _ in range(PROBLEM_SIZE)]) for _ in range(NUM_SETS)) )\n",
    "#for know if a state is taken or not we use a tuple\n",
    "State = namedtuple('State', ['taken', 'not_taken'])"
   ]
  },
  {
   "cell_type": "code",
   "execution_count": null,
   "metadata": {},
   "outputs": [],
   "source": [
    "'''\n",
    "#For better undestand the goal_check metod\n",
    "\n",
    "#i take all the sets in the position specified in the state[0] (1, 3, 5)\n",
    "[sets[i] for i in state[0]]\n",
    "\n",
    "#sum all the element taken\n",
    "#sum([sets[i] for i in state[0]])\n",
    "\n",
    "#same as the previuos line but with reduce that consent to obtain result a vector of true/false values (not in integer like the previous one)\n",
    "#reduce(np.logical_or, [sets[i] for i in state[0]])\n",
    "\n",
    "#get only a true o false (true if all is true or false if one is false)\n",
    "np.all(reduce(np.logical_or, [sets[i] for i in state[0]] ))\n",
    "'''"
   ]
  },
  {
   "cell_type": "code",
   "execution_count": null,
   "metadata": {},
   "outputs": [],
   "source": [
    "def goal_check(state):\n",
    "  #return np.all(reduce(np.logical_or, [SETS[i] for i in state[0]] ))\n",
    "  #thanks to namedtuple we can call state[0] element state.taken\n",
    "  #return np.all(reduce(np.logical_or, [SETS[i] for i in state.taken] ))\n",
    "  #we need to work with also 0 in initial state.taken elements so:\n",
    "  return np.all(reduce(np.logical_or, [SETS[i] for i in state.taken], np.array([False for _ in range(PROBLEM_SIZE)]) ))"
   ]
  },
  {
   "cell_type": "code",
   "execution_count": null,
   "metadata": {},
   "outputs": [],
   "source": [
    "#a possible state, it means that we take the element in position {1, 3, 5}  and not take the elements in the other  {0, 2, 4, 6, 7}\n",
    "#state = ({1, 3, 5}, {0, 2, 4, 6, 7})\n",
    "\n",
    "#for test we can pick all the sets (it should create a solution but it is not mandatory)\n",
    "#a state that contain all sets \n",
    "#state = (set(range(NUM_SETS)), set())\n",
    "\n",
    "#check if the state contain a goal\n",
    "#goal_check(state)"
   ]
  },
  {
   "cell_type": "code",
   "execution_count": null,
   "metadata": {},
   "outputs": [],
   "source": [
    "#to prevently check if the problem have a solution\n",
    "state_all = State(set(range(NUM_SETS)), set())\n",
    "assert goal_check( state_all ), \"Problem not solvable\""
   ]
  },
  {
   "cell_type": "code",
   "execution_count": null,
   "metadata": {},
   "outputs": [],
   "source": [
    "#we can use different que type\n",
    "frontier = PriorityQueue()\n",
    "#start state\n",
    "start_state = State(set(), set(range(NUM_SETS)))\n",
    "\n",
    "#put the start state in the frontier\n",
    "frontier.put(start_state)"
   ]
  },
  {
   "cell_type": "code",
   "execution_count": null,
   "metadata": {},
   "outputs": [],
   "source": [
    "#get the first element for the fronier\n",
    "current_state = frontier.get()\n",
    "\n",
    "#check if with the first state we can already have a solution\n",
    "if goal_check(current_state):\n",
    "  print(\"WOW solution find\")\n",
    "\n",
    "counter = 0\n",
    "while not goal_check(current_state):\n",
    "  counter += 1\n",
    "  for action in current_state[1]:\n",
    "    #we need to create a new state taking an element\n",
    "    #new_state = State(current_state.taken | {action}, current_state.not_taken - {action})\n",
    "    #same as the previous but with ^\n",
    "    new_state = State(current_state.taken ^ {action}, current_state.not_taken ^ {action})\n",
    "    #i need to put the new state in the frontier\n",
    "    frontier.put(new_state)\n",
    "  current_state = frontier.get()\n",
    "\n",
    "print(f\"solved in {counter:,} steps\")"
   ]
  },
  {
   "cell_type": "code",
   "execution_count": null,
   "metadata": {},
   "outputs": [],
   "source": [
    "frontier.get()"
   ]
  }
 ],
 "metadata": {
  "kernelspec": {
   "display_name": "venv",
   "language": "python",
   "name": "python3"
  },
  "language_info": {
   "codemirror_mode": {
    "name": "ipython",
    "version": 3
   },
   "file_extension": ".py",
   "mimetype": "text/x-python",
   "name": "python",
   "nbconvert_exporter": "python",
   "pygments_lexer": "ipython3",
   "version": "3.11.6"
  }
 },
 "nbformat": 4,
 "nbformat_minor": 2
}
