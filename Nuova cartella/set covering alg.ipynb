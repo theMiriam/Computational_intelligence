{
 "cells": [
  {
   "cell_type": "code",
   "execution_count": 3,
   "metadata": {},
   "outputs": [],
   "source": [
    "from random import random\n",
    "import operator\n",
    "from functools import reduce #for use reduce function\n",
    "from collections import namedtuple\n",
    "from queue import PriorityQueue #for the frontier\n",
    "import numpy as np"
   ]
  },
  {
   "cell_type": "code",
   "execution_count": 5,
   "metadata": {},
   "outputs": [],
   "source": [
    "PROBLEM_SIZE = 20\n",
    "NUM_SETS = 64\n",
    "\n",
    "#this line create an array of \"PROBLEM_SIZE\" size with random boolean value\n",
    "#np.array([random() < .2 for _ in range(PROBLEM_SIZE)])\n",
    "#This line create a set that have the total number of sets and put it in a tuple\n",
    "SETS = tuple ( ( np.array([random() < .2 for _ in range(PROBLEM_SIZE)]) for _ in range(NUM_SETS)) )\n",
    "#for know if a state is taken or not we use a tuple\n",
    "State = namedtuple('State', ['taken', 'not_taken'])"
   ]
  },
  {
   "cell_type": "code",
   "execution_count": 6,
   "metadata": {},
   "outputs": [
    {
     "data": {
      "text/plain": [
       "'\\n#For better undestand the goal_check metod\\n\\n#i take all the sets in the position specified in the state[0] (1, 3, 5)\\n[sets[i] for i in state[0]]\\n\\n#sum all the element taken\\n#sum([sets[i] for i in state[0]])\\n\\n#same as the previuos line but with reduce that consent to obtain result a vector of true/false values (not in integer like the previous one)\\n#reduce(np.logical_or, [sets[i] for i in state[0]])\\n\\n#get only a true o false (true if all is true or false if one is false)\\nnp.all(reduce(np.logical_or, [sets[i] for i in state[0]] ))\\n'"
      ]
     },
     "execution_count": 6,
     "metadata": {},
     "output_type": "execute_result"
    }
   ],
   "source": [
    "'''\n",
    "#For better undestand the goal_check metod\n",
    "\n",
    "#i take all the sets in the position specified in the state[0] (1, 3, 5)\n",
    "[sets[i] for i in state[0]]\n",
    "\n",
    "#sum all the element taken\n",
    "#sum([sets[i] for i in state[0]])\n",
    "\n",
    "#same as the previuos line but with reduce that consent to obtain result a vector of true/false values (not in integer like the previous one)\n",
    "#reduce(np.logical_or, [sets[i] for i in state[0]])\n",
    "\n",
    "#get only a true o false (true if all is true or false if one is false)\n",
    "np.all(reduce(np.logical_or, [sets[i] for i in state[0]] ))\n",
    "'''"
   ]
  },
  {
   "cell_type": "code",
   "execution_count": 7,
   "metadata": {},
   "outputs": [],
   "source": [
    "def goal_check(state):\n",
    "  #return np.all(reduce(np.logical_or, [SETS[i] for i in state[0]] ))\n",
    "  #thanks to namedtuple we can call state[0] element state.taken\n",
    "  #return np.all(reduce(np.logical_or, [SETS[i] for i in state.taken] ))\n",
    "  #we need to work with also 0 in initial state.taken elements so:\n",
    "  return np.all(reduce(np.logical_or, [SETS[i] for i in state.taken], np.array([False for _ in range(PROBLEM_SIZE)]) ))"
   ]
  },
  {
   "cell_type": "code",
   "execution_count": 8,
   "metadata": {},
   "outputs": [],
   "source": [
    "#a possible state, it means that we take the element in position {1, 3, 5}  and not take the elements in the other  {0, 2, 4, 6, 7}\n",
    "#state = ({1, 3, 5}, {0, 2, 4, 6, 7})\n",
    "\n",
    "#for test we can pick all the sets (it should create a solution but it is not mandatory)\n",
    "#a state that contain all sets \n",
    "#state = (set(range(NUM_SETS)), set())\n",
    "\n",
    "#check if the state contain a goal\n",
    "#goal_check(state)"
   ]
  },
  {
   "cell_type": "code",
   "execution_count": 9,
   "metadata": {},
   "outputs": [],
   "source": [
    "#to prevently check if the problem have a solution\n",
    "state_all = State(set(range(NUM_SETS)), set())\n",
    "assert goal_check( state_all ), \"Problem not solvable\""
   ]
  },
  {
   "cell_type": "code",
   "execution_count": 10,
   "metadata": {},
   "outputs": [],
   "source": [
    "#we can use different que type\n",
    "frontier = PriorityQueue()\n",
    "#start state\n",
    "start_state = State(set(), set(range(NUM_SETS)))\n",
    "\n",
    "#put the start state in the frontier\n",
    "frontier.put(start_state)"
   ]
  },
  {
   "cell_type": "code",
   "execution_count": 11,
   "metadata": {},
   "outputs": [
    {
     "name": "stdout",
     "output_type": "stream",
     "text": [
      "solved in 126 steps\n"
     ]
    }
   ],
   "source": [
    "#get the first element for the fronier\n",
    "current_state = frontier.get()\n",
    "\n",
    "#check if with the first state we can already have a solution\n",
    "if goal_check(current_state):\n",
    "  print(\"WOW solution find\")\n",
    "\n",
    "counter = 0\n",
    "while not goal_check(current_state):\n",
    "  counter += 1\n",
    "  for action in current_state[1]:\n",
    "    #we need to create a new state taking an element\n",
    "    #new_state = State(current_state.taken | {action}, current_state.not_taken - {action})\n",
    "    #same as the previous but with ^\n",
    "    new_state = State(current_state.taken ^ {action}, current_state.not_taken ^ {action})\n",
    "    #i need to put the new state in the frontier\n",
    "    frontier.put(new_state)\n",
    "  current_state = frontier.get()\n",
    "\n",
    "print(f\"solved in {counter:,} steps\")"
   ]
  },
  {
   "cell_type": "code",
   "execution_count": 12,
   "metadata": {},
   "outputs": [
    {
     "data": {
      "text/plain": [
       "State(taken={62, 54, 55, 56, 57, 58, 59, 60, 61, 30, 63}, not_taken={0, 1, 2, 3, 4, 5, 6, 7, 8, 9, 10, 11, 12, 13, 14, 15, 16, 17, 18, 19, 20, 21, 22, 23, 24, 25, 26, 27, 28, 29, 31, 32, 33, 34, 35, 36, 37, 38, 39, 40, 41, 42, 43, 44, 45, 46, 47, 48, 49, 50, 51, 52, 53})"
      ]
     },
     "execution_count": 12,
     "metadata": {},
     "output_type": "execute_result"
    }
   ],
   "source": [
    "frontier.get()"
   ]
  }
 ],
 "metadata": {
  "kernelspec": {
   "display_name": "venv",
   "language": "python",
   "name": "python3"
  },
  "language_info": {
   "codemirror_mode": {
    "name": "ipython",
    "version": 3
   },
   "file_extension": ".py",
   "mimetype": "text/x-python",
   "name": "python",
   "nbconvert_exporter": "python",
   "pygments_lexer": "ipython3",
   "version": "3.11.6"
  }
 },
 "nbformat": 4,
 "nbformat_minor": 2
}
