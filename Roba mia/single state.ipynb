{
 "cells": [
  {
   "cell_type": "code",
   "execution_count": 421,
   "metadata": {},
   "outputs": [],
   "source": [
    "from random import random, choice, randint\n",
    "import operator\n",
    "from functools import reduce #for use reduce function\n",
    "from collections import namedtuple\n",
    "from queue import PriorityQueue #for the frontier\n",
    "import numpy as np\n",
    "from copy import copy"
   ]
  },
  {
   "cell_type": "code",
   "execution_count": 422,
   "metadata": {},
   "outputs": [],
   "source": [
    "PROBLEM_SIZE = 10\n",
    "NUM_SETS = 30\n",
    "\n",
    "#this line create an array of \"PROBLEM_SIZE\" size with random boolean value\n",
    "#np.array([random() < .2 for _ in range(PROBLEM_SIZE)])\n",
    "#This line create a set that have the total number of sets and put it in a tuple\n",
    "SETS = tuple ( ( np.array([random() < .2 for _ in range(PROBLEM_SIZE)]) for _ in range(NUM_SETS)) )\n",
    "#for know if a state is taken or not we use a tuple\n",
    "State = namedtuple('State', ['taken', 'not_taken'])"
   ]
  },
  {
   "cell_type": "code",
   "execution_count": 423,
   "metadata": {},
   "outputs": [
    {
     "data": {
      "text/plain": [
       "'\\n#For better undestand the goal_check metod\\n\\n#i take all the sets in the position specified in the state[0] (1, 3, 5)\\n[sets[i] for i in state[0]]\\n\\n#sum all the element taken\\n#sum([sets[i] for i in state[0]])\\n\\n#same as the previuos line but with reduce that consent to obtain result a vector of true/false values (not in integer like the previous one)\\n#reduce(np.logical_or, [sets[i] for i in state[0]])\\n\\n#get only a true o false (true if all is true or false if one is false)\\nnp.all(reduce(np.logical_or, [sets[i] for i in state[0]] ))\\n'"
      ]
     },
     "execution_count": 423,
     "metadata": {},
     "output_type": "execute_result"
    }
   ],
   "source": [
    "'''\n",
    "#For better undestand the goal_check metod\n",
    "\n",
    "#i take all the sets in the position specified in the state[0] (1, 3, 5)\n",
    "[sets[i] for i in state[0]]\n",
    "\n",
    "#sum all the element taken\n",
    "#sum([sets[i] for i in state[0]])\n",
    "\n",
    "#same as the previuos line but with reduce that consent to obtain result a vector of true/false values (not in integer like the previous one)\n",
    "#reduce(np.logical_or, [sets[i] for i in state[0]])\n",
    "\n",
    "#get only a true o false (true if all is true or false if one is false)\n",
    "np.all(reduce(np.logical_or, [sets[i] for i in state[0]] ))\n",
    "'''"
   ]
  },
  {
   "cell_type": "code",
   "execution_count": 424,
   "metadata": {},
   "outputs": [],
   "source": [
    "def evaluate(state):\n",
    "  cost = sum(state)\n",
    "  #return np.all(reduce(np.logical_or, [SETS[i] for i in state[0]] ))\n",
    "  #thanks to namedtuple we can call state[0] element state.taken\n",
    "  #return np.all(reduce(np.logical_or, [SETS[i] for i in state.taken] ))\n",
    "  #we need to work with also 0 in initial state.taken elements so:\n",
    "  valid = np.all(\n",
    "    reduce(\n",
    "      np.logical_or, [SETS[i] for i, t in enumerate(state) if t], np.array([False for _ in range(PROBLEM_SIZE)]) \n",
    "    )\n",
    "  )\n",
    "  return valid, -cost if valid else 0"
   ]
  },
  {
   "cell_type": "code",
   "execution_count": 425,
   "metadata": {},
   "outputs": [],
   "source": [
    "def tweak(state):\n",
    "    new_state = copy(state)\n",
    "    index = randint(0, PROBLEM_SIZE-1)\n",
    "    new_state[index] = not new_state[index]\n",
    "    return new_state"
   ]
  },
  {
   "cell_type": "code",
   "execution_count": 426,
   "metadata": {},
   "outputs": [
    {
     "name": "stdout",
     "output_type": "stream",
     "text": [
      "[True, True, False, False, False, True, False, False, False, True] (False, 0)\n"
     ]
    }
   ],
   "source": [
    "current_state = [choice([True, False]) for _ in range(PROBLEM_SIZE)]\n",
    "print(current_state, evaluate(current_state))\n",
    "\n",
    "for step in range(100):\n",
    "    new_state = tweak(current_state)\n",
    "    if evaluate(new_state) > evaluate(current_state):\n",
    "        current_state = new_state\n",
    "        print(current_state, evaluate(current_state))\n",
    "    "
   ]
  },
  {
   "cell_type": "code",
   "execution_count": 427,
   "metadata": {},
   "outputs": [],
   "source": [
    "#to prevently check if the problem have a solution\n",
    "state_all = State(set(range(NUM_SETS)), set())\n",
    "assert goal_check( state_all ), \"Problem not solvable\""
   ]
  },
  {
   "cell_type": "code",
   "execution_count": 428,
   "metadata": {},
   "outputs": [],
   "source": [
    "#we can use different que type\n",
    "frontier = PriorityQueue()\n",
    "#start state\n",
    "start_state = State(set(), set(range(NUM_SETS)))\n",
    "\n",
    "#put the start state in the frontier\n",
    "frontier.put(start_state)"
   ]
  },
  {
   "cell_type": "code",
   "execution_count": 429,
   "metadata": {},
   "outputs": [
    {
     "name": "stdout",
     "output_type": "stream",
     "text": [
      "solved in 77 steps\n"
     ]
    }
   ],
   "source": [
    "#get the first element for the fronier\n",
    "current_state = frontier.get()\n",
    "\n",
    "#check if with the first state we can already have a solution\n",
    "if goal_check(current_state):\n",
    "  print(\"WOW solution find\")\n",
    "\n",
    "counter = 0\n",
    "while not goal_check(current_state):\n",
    "  counter += 1\n",
    "  for action in current_state[1]:\n",
    "    #we need to create a new state taking an element\n",
    "    #new_state = State(current_state.taken | {action}, current_state.not_taken - {action})\n",
    "    #same as the previous but with ^\n",
    "    new_state = State(current_state.taken ^ {action}, current_state.not_taken ^ {action})\n",
    "    #i need to put the new state in the frontier\n",
    "    frontier.put(new_state)\n",
    "  current_state = frontier.get()\n",
    "\n",
    "print(f\"solved in {counter:,} steps\")"
   ]
  },
  {
   "cell_type": "code",
   "execution_count": 430,
   "metadata": {},
   "outputs": [],
   "source": [
    "current_state = [False for _ in range(PROBLEM_SIZE)]"
   ]
  },
  {
   "cell_type": "code",
   "execution_count": null,
   "metadata": {},
   "outputs": [],
   "source": []
  }
 ],
 "metadata": {
  "kernelspec": {
   "display_name": "venv",
   "language": "python",
   "name": "python3"
  },
  "language_info": {
   "codemirror_mode": {
    "name": "ipython",
    "version": 3
   },
   "file_extension": ".py",
   "mimetype": "text/x-python",
   "name": "python",
   "nbconvert_exporter": "python",
   "pygments_lexer": "ipython3",
   "version": "3.11.6"
  }
 },
 "nbformat": 4,
 "nbformat_minor": 2
}
