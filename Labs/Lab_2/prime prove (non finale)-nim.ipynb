{
 "cells": [
  {
   "cell_type": "markdown",
   "metadata": {
    "pycharm": {
     "name": "#%% md\n"
    }
   },
   "source": [
    "Copyright **`(c)`** 2022 Giovanni Squillero `<squillero@polito.it>`  \n",
    "[`https://github.com/squillero/computational-intelligence`](https://github.com/squillero/computational-intelligence)  \n",
    "Free for personal or classroom use; see [`LICENSE.md`](https://github.com/squillero/computational-intelligence/blob/master/LICENSE.md) for details.  \n"
   ]
  },
  {
   "cell_type": "markdown",
   "metadata": {
    "pycharm": {
     "name": "#%%\n"
    }
   },
   "source": [
    "# Lab 2: ES\n",
    "\n",
    "## Task\n",
    "\n",
    "Write agents able to play [*Nim*](https://en.wikipedia.org/wiki/Nim), with an arbitrary number of rows and an upper bound $k$ on the number of objects that can be removed in a turn (a.k.a., *subtraction game*).\n",
    "\n",
    "The goal of the game is to **avoid** taking the last object.\n",
    "\n",
    "* Task2.1: An agent using fixed rules based on *nim-sum* (i.e., an *expert system*)\n",
    "* Task2.2: An agent using evolved rules using ES\n",
    "\n",
    "## Instructions\n",
    "\n",
    "* Create the directory `lab2` inside your personal course repository for the course \n",
    "* Put a `README.md` and your solution (all the files, code and auxiliary data if needed)\n",
    "\n",
    "## Notes\n",
    "\n",
    "* Working in group is not only allowed, but recommended (see: [Ubuntu](https://en.wikipedia.org/wiki/Ubuntu_philosophy) and [Cooperative Learning](https://files.eric.ed.gov/fulltext/EJ1096789.pdf)). Collaborations must be explicitly declared in the `README.md`.\n",
    "* [Yanking](https://www.emacswiki.org/emacs/KillingAndYanking) from the internet is allowed, but sources must be explicitly declared in the `README.md`.\n",
    "\n"
   ]
  },
  {
   "cell_type": "code",
   "execution_count": 92,
   "metadata": {},
   "outputs": [],
   "source": [
    "import logging\n",
    "from pprint import pprint, pformat\n",
    "from collections import namedtuple\n",
    "from random import random, choice, randint\n",
    "from copy import deepcopy, copy\n",
    "from dataclasses import dataclass\n",
    "from pprint import pprint\n",
    "import numpy as np\n"
   ]
  },
  {
   "cell_type": "code",
   "execution_count": 93,
   "metadata": {},
   "outputs": [],
   "source": [
    "POPULATION_SIZE = 30 #mi\n",
    "OFFSPRING_SIZE = 20 #lambda #creating 20 new individuals\n",
    "TOURNAMENT_SIZE = 2\n",
    "MUTATION_PROBABILITY = .15\n",
    "NUM_GAMES = 10"
   ]
  },
  {
   "cell_type": "markdown",
   "metadata": {},
   "source": [
    "## The *Nim* and *Nimply* classes"
   ]
  },
  {
   "cell_type": "code",
   "execution_count": 94,
   "metadata": {},
   "outputs": [],
   "source": [
    "Nimply = namedtuple(\"Nimply\", \"row, num_objects\")\n"
   ]
  },
  {
   "cell_type": "code",
   "execution_count": 95,
   "metadata": {},
   "outputs": [],
   "source": [
    "class Nim:\n",
    "    def __init__(self, num_rows: int, k: int = None) -> None:\n",
    "        self._rows = [i * 2 + 1 for i in range(num_rows)]\n",
    "        self._k = k\n",
    "\n",
    "    def __bool__(self):\n",
    "        return sum(self._rows) > 0\n",
    "\n",
    "    def __str__(self):\n",
    "        return \"<\" + \" \".join(str(_) for _ in self._rows) + \">\"\n",
    "\n",
    "    @property\n",
    "    def rows(self) -> tuple:\n",
    "        return tuple(self._rows)\n",
    "\n",
    "    def nimming(self, ply: Nimply) -> None:\n",
    "        row, num_objects = ply\n",
    "        assert self._rows[row] >= num_objects\n",
    "        assert self._k is None or num_objects <= self._k\n",
    "        self._rows[row] -= num_objects\n"
   ]
  },
  {
   "cell_type": "markdown",
   "metadata": {},
   "source": [
    "## Sample (and silly) startegies "
   ]
  },
  {
   "cell_type": "code",
   "execution_count": 97,
   "metadata": {},
   "outputs": [],
   "source": [
    "def pure_random(state: Nim) -> Nimply:\n",
    "    \"\"\"A completely random move\"\"\"\n",
    "    row = choice([r for r, c in enumerate(state.rows) if c > 0])\n",
    "    num_objects = randint(1, state.rows[row])\n",
    "    return Nimply(row, num_objects)"
   ]
  },
  {
   "cell_type": "code",
   "execution_count": 98,
   "metadata": {},
   "outputs": [],
   "source": [
    "def gabriele(state: Nim) -> Nimply:\n",
    "    \"\"\"Pick always the maximum possible number of the lowest row\"\"\"\n",
    "    possible_moves = [(r, o) for r, c in enumerate(state.rows) for o in range(1, c + 1)]\n",
    "    return Nimply(*max(possible_moves, key=lambda m: (-m[0], m[1])))"
   ]
  },
  {
   "cell_type": "code",
   "execution_count": 100,
   "metadata": {},
   "outputs": [],
   "source": [
    "def nim_sum(state: Nim) -> int:\n",
    "    tmp = np.array([tuple(int(x) for x in f\"{c:032b}\") for c in state.rows])\n",
    "    xor = tmp.sum(axis=0) % 2\n",
    "    return int(\"\".join(str(_) for _ in xor), base=2)\n",
    "\n",
    "\n",
    "def analize(raw: Nim) -> dict:\n",
    "    cooked = dict()\n",
    "    cooked[\"possible_moves\"] = dict()\n",
    "    for ply in (Nimply(r, o) for r, c in enumerate(raw.rows) for o in range(1, c + 1)):\n",
    "        tmp = deepcopy(raw)\n",
    "        tmp.nimming(ply)\n",
    "        cooked[\"possible_moves\"][ply] = nim_sum(tmp)\n",
    "    return cooked\n",
    "\n",
    "\n",
    "def optimal(state: Nim) -> Nimply:\n",
    "    analysis = analize(state)\n",
    "    logging.debug(f\"analysis:\\n{pformat(analysis)}\")\n",
    "    spicy_moves = [ply for ply, ns in analysis[\"possible_moves\"].items() if ns != 0]\n",
    "    if not spicy_moves:\n",
    "        spicy_moves = list(analysis[\"possible_moves\"].keys())\n",
    "    ply = choice(spicy_moves)\n",
    "    return ply\n"
   ]
  },
  {
   "cell_type": "markdown",
   "metadata": {},
   "source": [
    "## My strategy"
   ]
  },
  {
   "cell_type": "code",
   "execution_count": 103,
   "metadata": {},
   "outputs": [],
   "source": [
    "def adaptive(state: Nim, ind: Individual) -> Nimply:\n",
    "    \"\"\"A strategy that can adapt its parameters\"\"\"\n",
    "    \n",
    "     # numero di righe\n",
    "    num_rows = state._rows\n",
    "\n",
    "    # numero di stecchini\n",
    "    num_sticks = sum(state._rows)\n",
    "\n",
    "    if num_rows %2 == 0:\n",
    "       if num_sticks %2 == 0:\n",
    "           \n",
    "\n",
    "\n",
    "    \n",
    "\n",
    "    \n",
    "    \n",
    "\n"
   ]
  },
  {
   "cell_type": "code",
   "execution_count": 96,
   "metadata": {},
   "outputs": [],
   "source": [
    "@dataclass\n",
    "class Individual:\n",
    "    fitness: tuple \n",
    "    genotype: list[float] \n",
    "\n",
    "def select_parent(pop):\n",
    "    pool = [choice(pop) for _ in range(TOURNAMENT_SIZE)]\n",
    "    champion = max(pool, key=lambda i: i.fitness)\n",
    "    return champion\n",
    "\n",
    "def mutate(individual: Individual) -> Individual:\n",
    "    offspring = copy(individual)\n",
    "    position = randint(0, NUM_SETS-1)\n",
    "    offspring.genotype[position] = not offspring.genotype[position]\n",
    "    offspring.fitness = None\n",
    "    return offspring\n",
    "\n",
    "def one_cut_xover(ind1: Individual, ind2: Individual) -> Individual:\n",
    "    cut_point = randint(0, NUM_SETS-1)\n",
    "    offspring = Individual(fitness = None, genotype = ind1.genotype[:cut_point] + ind2.genotype[cut_point:])\n",
    "    assert len(offspring.genotype) == NUM_SETS\n",
    "    \n",
    "    return offspring"
   ]
  },
  {
   "cell_type": "code",
   "execution_count": null,
   "metadata": {},
   "outputs": [],
   "source": [
    "def fitness(phenotype: Individual):\n",
    "    total_wins = 0\n",
    "\n",
    "    strategy = (adaptive, optimal)\n",
    "\n",
    "    for _ in range (NUM_GAMES):\n",
    "        nim = Nim(5)\n",
    "        player = 0\n",
    "        while nim:\n",
    "            #mossa da fare\n",
    "            #controllo che strategia sto usando \n",
    "            if strategy[player] == adaptive:\n",
    "                ply = strategy[player](nim, phenotype)\n",
    "            else:\n",
    "                ply = strategy[player](nim)\n",
    "            # fa la mossa\n",
    "            nim.nimming(ply)\n",
    "\n",
    "            #cambio giocatore\n",
    "            player = 1 - player\n",
    "        \n",
    "        if player == 0:\n",
    "            total_wins += 1\n",
    "\n",
    "    return total_wins"
   ]
  },
  {
   "cell_type": "code",
   "execution_count": null,
   "metadata": {},
   "outputs": [],
   "source": [
    "#initial population\n",
    "population = [Individual(fitness = None, genotype=[0, 0]) for _ in range (POPULATION_SIZE)]\n",
    "\n",
    "for i in population:\n",
    "    i.fitness = fitness(i.genotype)"
   ]
  },
  {
   "cell_type": "code",
   "execution_count": null,
   "metadata": {},
   "outputs": [],
   "source": [
    "for generation in range(100):\n",
    "    offspring = list()\n",
    "    for counter in range(OFFSPRING_SIZE):\n",
    "        if random() < MUTATION_PROBABILITY:   # self-adapt mutation probability\n",
    "            #do mutation # add more clever mutation\n",
    "            parent = select_parent(population)\n",
    "            child = mutate(p)\n",
    "        else:\n",
    "            #do xover # add more xovers\n",
    "            p1 = select_parent(population)\n",
    "            p2 = select_parent(population)\n",
    "            child = one_cut_xover(p1, p2)\n",
    "            \n",
    "        offspring.append(child)\n",
    "\n",
    "    population = offspring\n",
    "\n",
    "    for i in population:\n",
    "        i.fitness = fitness(i.genotype)\n",
    "        \n",
    "    population.extend(offspring)\n",
    "    population.sort(key = lambda i: i.fitness, reverse = True)\n",
    "\n",
    "    #survival selection\n",
    "    population = population[:POPULATION_SIZE]\n",
    "    print(population[0].fitness)"
   ]
  },
  {
   "cell_type": "markdown",
   "metadata": {},
   "source": [
    "## Oversimplified match"
   ]
  },
  {
   "cell_type": "code",
   "execution_count": 101,
   "metadata": {},
   "outputs": [
    {
     "name": "stderr",
     "output_type": "stream",
     "text": [
      "INFO:root:init : <1 3 5 7 9>\n",
      "INFO:root:ply: player 0 plays Nimply(row=3, num_objects=3)\n",
      "INFO:root:status: <1 3 5 4 9>\n",
      "INFO:root:ply: player 1 plays Nimply(row=4, num_objects=7)\n",
      "INFO:root:status: <1 3 5 4 2>\n",
      "INFO:root:ply: player 0 plays Nimply(row=2, num_objects=5)\n",
      "INFO:root:status: <1 3 0 4 2>\n",
      "INFO:root:ply: player 1 plays Nimply(row=4, num_objects=1)\n",
      "INFO:root:status: <1 3 0 4 1>\n",
      "INFO:root:ply: player 0 plays Nimply(row=3, num_objects=3)\n",
      "INFO:root:status: <1 3 0 1 1>\n",
      "INFO:root:ply: player 1 plays Nimply(row=1, num_objects=1)\n",
      "INFO:root:status: <1 2 0 1 1>\n",
      "INFO:root:ply: player 0 plays Nimply(row=3, num_objects=1)\n",
      "INFO:root:status: <1 2 0 0 1>\n",
      "INFO:root:ply: player 1 plays Nimply(row=1, num_objects=1)\n",
      "INFO:root:status: <1 1 0 0 1>\n",
      "INFO:root:ply: player 0 plays Nimply(row=4, num_objects=1)\n",
      "INFO:root:status: <1 1 0 0 0>\n",
      "INFO:root:ply: player 1 plays Nimply(row=1, num_objects=1)\n",
      "INFO:root:status: <1 0 0 0 0>\n",
      "INFO:root:ply: player 0 plays Nimply(row=0, num_objects=1)\n",
      "INFO:root:status: <0 0 0 0 0>\n",
      "INFO:root:status: Player 1 won!\n"
     ]
    }
   ],
   "source": [
    "\n",
    "logging.getLogger().setLevel(logging.INFO)\n",
    "\n",
    "strategy = (optimal, pure_random)\n",
    "\n",
    "nim = Nim(5)\n",
    "logging.info(f\"init : {nim}\")\n",
    "player = 0\n",
    "while nim:\n",
    "    ply = strategy[player](nim)\n",
    "    logging.info(f\"ply: player {player} plays {ply}\")\n",
    "    nim.nimming(ply)\n",
    "    logging.info(f\"status: {nim}\")\n",
    "    player = 1 - player\n",
    "logging.info(f\"status: Player {player} won!\")"
   ]
  }
 ],
 "metadata": {
  "kernelspec": {
   "display_name": "Python 3.10.7 ('ci22-dPIXJ0_o-py3.10')",
   "language": "python",
   "name": "python3"
  },
  "language_info": {
   "codemirror_mode": {
    "name": "ipython",
    "version": 3
   },
   "file_extension": ".py",
   "mimetype": "text/x-python",
   "name": "python",
   "nbconvert_exporter": "python",
   "pygments_lexer": "ipython3",
   "version": "3.11.6"
  },
  "vscode": {
   "interpreter": {
    "hash": "10197e8e2f2aa67e2c349105091c77f4cd384fce4877865f002d9ec653f96bc0"
   }
  }
 },
 "nbformat": 4,
 "nbformat_minor": 2
}
