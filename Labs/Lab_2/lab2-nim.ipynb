{
 "cells": [
  {
   "cell_type": "markdown",
   "metadata": {
    "pycharm": {
     "name": "#%% md\n"
    }
   },
   "source": [
    "Copyright **`(c)`** 2022 Giovanni Squillero `<squillero@polito.it>`  \n",
    "[`https://github.com/squillero/computational-intelligence`](https://github.com/squillero/computational-intelligence)  \n",
    "Free for personal or classroom use; see [`LICENSE.md`](https://github.com/squillero/computational-intelligence/blob/master/LICENSE.md) for details.  \n"
   ]
  },
  {
   "cell_type": "markdown",
   "metadata": {
    "pycharm": {
     "name": "#%%\n"
    }
   },
   "source": [
    "# Lab 2: ES\n",
    "\n",
    "## Task\n",
    "\n",
    "Write agents able to play [*Nim*](https://en.wikipedia.org/wiki/Nim), with an arbitrary number of rows and an upper bound $k$ on the number of objects that can be removed in a turn (a.k.a., *subtraction game*).\n",
    "\n",
    "The goal of the game is to **avoid** taking the last object.\n",
    "\n",
    "* Task2.1: An agent using fixed rules based on *nim-sum* (i.e., an *expert system*)\n",
    "* Task2.2: An agent using evolved rules using ES\n",
    "\n",
    "## Instructions\n",
    "\n",
    "* Create the directory `lab2` inside your personal course repository for the course \n",
    "* Put a `README.md` and your solution (all the files, code and auxiliary data if needed)\n",
    "\n",
    "## Notes\n",
    "\n",
    "* Working in group is not only allowed, but recommended (see: [Ubuntu](https://en.wikipedia.org/wiki/Ubuntu_philosophy) and [Cooperative Learning](https://files.eric.ed.gov/fulltext/EJ1096789.pdf)). Collaborations must be explicitly declared in the `README.md`.\n",
    "* [Yanking](https://www.emacswiki.org/emacs/KillingAndYanking) from the internet is allowed, but sources must be explicitly declared in the `README.md`.\n",
    "\n"
   ]
  },
  {
   "cell_type": "code",
   "execution_count": 489,
   "metadata": {},
   "outputs": [],
   "source": [
    "import logging\n",
    "from pprint import pprint, pformat\n",
    "from collections import namedtuple\n",
    "from random import random, choice, randint, uniform\n",
    "from copy import copy, deepcopy\n",
    "\n",
    "import numpy as np\n",
    "\n",
    "from dataclasses import dataclass"
   ]
  },
  {
   "cell_type": "markdown",
   "metadata": {},
   "source": [
    "## The *Nim* and *Nimply* classes"
   ]
  },
  {
   "cell_type": "code",
   "execution_count": 490,
   "metadata": {},
   "outputs": [],
   "source": [
    "Nimply = namedtuple(\"Nimply\", \"row, num_objects\")\n"
   ]
  },
  {
   "cell_type": "code",
   "execution_count": 491,
   "metadata": {},
   "outputs": [],
   "source": [
    "class Nim:\n",
    "    def __init__(self, num_rows: int, k: int = None) -> None:\n",
    "        self._rows = [i * 2 + 1 for i in range(num_rows)]\n",
    "        self._k = k\n",
    "\n",
    "    #return true while there is at least one stick\n",
    "    def __bool__(self):\n",
    "        return sum(self._rows) > 0\n",
    "\n",
    "    #overwrite str for show nim\n",
    "    def __str__(self):\n",
    "        return \"<\" + \" \".join(str(_) for _ in self._rows) + \">\"\n",
    "\n",
    "    @property\n",
    "    def rows(self) -> tuple:\n",
    "        return tuple(self._rows)\n",
    "\n",
    "    def nimming(self, ply: Nimply) -> None:\n",
    "        row, num_objects = ply\n",
    "        assert self._rows[row] >= num_objects\n",
    "        assert self._k is None or num_objects <= self._k\n",
    "        self._rows[row] -= num_objects\n"
   ]
  },
  {
   "cell_type": "markdown",
   "metadata": {},
   "source": [
    "## Sample (and silly) startegies "
   ]
  },
  {
   "cell_type": "code",
   "execution_count": 492,
   "metadata": {},
   "outputs": [],
   "source": [
    "def pure_random(state: Nim) -> Nimply:\n",
    "    \"\"\"A completely random move\"\"\"\n",
    "    row = choice([r for r, c in enumerate(state.rows) if c > 0])\n",
    "    num_objects = randint(1, state.rows[row])\n",
    "    return Nimply(row, num_objects)\n"
   ]
  },
  {
   "cell_type": "code",
   "execution_count": 493,
   "metadata": {},
   "outputs": [],
   "source": [
    "def gabriele(state: Nim) -> Nimply:\n",
    "    \"\"\"Pick always the maximum possible number of the lowest row\"\"\"\n",
    "    possible_moves = [(r, o) for r, c in enumerate(state.rows) for o in range(1, c + 1)]\n",
    "    return Nimply(*max(possible_moves, key=lambda m: (-m[0], m[1])))\n"
   ]
  },
  {
   "cell_type": "markdown",
   "metadata": {},
   "source": [
    "## Optimal Strategy"
   ]
  },
  {
   "cell_type": "code",
   "execution_count": 494,
   "metadata": {},
   "outputs": [],
   "source": [
    "def nim_sum(state: Nim) -> int:\n",
    "    tmp = np.array([tuple(int(x) for x in f\"{c:032b}\") for c in state.rows])\n",
    "    xor = tmp.sum(axis=0) % 2\n",
    "    return int(\"\".join(str(_) for _ in xor), base=2)\n",
    "\n",
    "\n",
    "def analize(raw: Nim) -> dict:\n",
    "    cooked = dict()\n",
    "    cooked[\"possible_moves\"] = dict()\n",
    "    for ply in (Nimply(r, o) for r, c in enumerate(raw.rows) for o in range(1, c + 1)):\n",
    "        tmp = deepcopy(raw)\n",
    "        tmp.nimming(ply)\n",
    "        cooked[\"possible_moves\"][ply] = nim_sum(tmp)\n",
    "    return cooked\n",
    "\n",
    "\n",
    "def optimal(state: Nim) -> Nimply:\n",
    "    analysis = analize(state)\n",
    "    logging.debug(f\"analysis:\\n{pformat(analysis)}\")\n",
    "    spicy_moves = [ply for ply, ns in analysis[\"possible_moves\"].items() if ns != 0]\n",
    "    if not spicy_moves:\n",
    "        spicy_moves = list(analysis[\"possible_moves\"].keys())\n",
    "    ply = choice(spicy_moves)\n",
    "    return ply\n"
   ]
  },
  {
   "cell_type": "markdown",
   "metadata": {},
   "source": [
    "## My EA strategy"
   ]
  },
  {
   "cell_type": "code",
   "execution_count": 495,
   "metadata": {},
   "outputs": [],
   "source": [
    "# Evolution parameter\n",
    "GENERATIONS = 10\n",
    "POPULATION_SIZE = 50\n",
    "OFFSPRING_SIZE = 20\n",
    "MUTATION_PROBABILITY = 0.2\n",
    "MUTATION_TRESHOLD = 0.2\n",
    "XOVER_TRESHOLD = 0.5\n",
    "TOURNAMENT_SIZE = 2\n",
    "NUM_GAMES = 10"
   ]
  },
  {
   "cell_type": "code",
   "execution_count": 496,
   "metadata": {},
   "outputs": [],
   "source": [
    "@dataclass\n",
    "class Individual:\n",
    "    fitness: tuple\n",
    "    genotype: list[float]\n",
    "\n",
    "def select_parent(pop):\n",
    "    pool = [choice(pop) for _ in range(TOURNAMENT_SIZE)]\n",
    "    champion = max(pool, key=lambda i: i.fitness)\n",
    "    return champion\n",
    "\n",
    "#mutation individual (:Individual   help to autocoplite code) (-> Individual   means that i return an Individual)\n",
    "def mutate(ind: Individual) -> Individual: \n",
    "    offspring = deepcopy(ind)\n",
    "    while True:\n",
    "        #seleziono i due genomi da modificare e ciclo sinche sono uguali\n",
    "        while True:\n",
    "            to_change_1 = randint(0, len(ind.genotype)-1)\n",
    "            to_change_2 = randint(0, len(ind.genotype)-1)\n",
    "\n",
    "            if(to_change_1 != to_change_2):\n",
    "                break\n",
    "\n",
    "        #controllo di non rimuovere la soglia da un valore che è gia a 0 o aggiungerla a un valore che è gia 1\n",
    "        if offspring.genotype[to_change_1] - MUTATION_TRESHOLD >= 0 and offspring.genotype[to_change_2] + MUTATION_TRESHOLD <= 1:\n",
    "            offspring.genotype[to_change_1] -= MUTATION_TRESHOLD\n",
    "            offspring.genotype[to_change_2] += MUTATION_TRESHOLD\n",
    "            break\n",
    "\n",
    "    offspring.genotype = [round(element, 2) for element in offspring.genotype]\n",
    "    return offspring\n",
    "\n",
    "def adjust_to_one(vector):\n",
    "    # Calcola la somma attuale del vettore\n",
    "    current_sum = sum(vector)\n",
    "\n",
    "    # Trova l'indice dell'elemento più grande\n",
    "    max_index = vector.index(max(vector))\n",
    "\n",
    "    # Calcola la differenza da aggiungere all'elemento più grande\n",
    "    difference = 1 - current_sum\n",
    "\n",
    "    # Aggiungi la differenza all'elemento più grande\n",
    "    vector[max_index] += round(difference, 2)\n",
    "\n",
    "    return vector\n",
    "\n",
    "def one_cut_xover(ind1: Individual, ind2: Individual):\n",
    "    cut_point = randint(0, len(ind1.genotype)-1)\n",
    "    offspring = Individual(fitness=None,\n",
    "                           genotype=ind1.genotype[:cut_point] + ind2.genotype[cut_point:])\n",
    "\n",
    "    # Calcola la somma dei valori nel vettore\n",
    "    total = sum(offspring.genotype)\n",
    "    # Normalizza il vettore dividendo ciascun elemento per la somma totale\n",
    "    offspring.genotype = [val / total for val in offspring.genotype ]\n",
    "\n",
    "    #round at second value\n",
    "    offspring.genotype = [round(element, 2) for element in offspring.genotype]\n",
    "    offspring.genotype = adjust_to_one(offspring.genotype)\n",
    "    #offspring.genotype = [round(element, 2) for element in offspring.genotype]\n",
    "\n",
    "    #return offspring\n",
    "    return deepcopy(ind1)"
   ]
  },
  {
   "cell_type": "code",
   "execution_count": 497,
   "metadata": {},
   "outputs": [],
   "source": [
    "def all_from_min(state: Nim) -> Nimply:\n",
    "    \"\"\"Pick always the maximum possible number of the row with lowest stick\"\"\"\n",
    "    actual_status = [(index, val) for index, val in enumerate(state._rows) if val > 0]\n",
    "    tupla_min_sticks = min(actual_status, key=lambda x: x[1])    \n",
    "    return Nimply(*tupla_min_sticks )\n",
    "\n",
    "def all_from_max(state: Nim) -> Nimply:\n",
    "    \"\"\"Pick always the maximum possible number of the row with highest stick\"\"\"\n",
    "    actual_status = [(index, val) for index, val in enumerate(state._rows) if val > 0]\n",
    "    tupla_min_sticks = max(actual_status, key=lambda x: x[1])    \n",
    "    return Nimply(*tupla_min_sticks )\n",
    "\n",
    "def one_from_min(state: Nim) -> Nimply:\n",
    "    \"\"\"Pick always one from the row with the lowest number of sticks\"\"\"\n",
    "    actual_status = [(index, val) for index, val in enumerate(state._rows) if val > 0]\n",
    "    tupla_min_sticks = min(actual_status, key=lambda x: x[1])\n",
    "    return Nimply(*(tupla_min_sticks[0], 1) )\n",
    "\n",
    "def one_from_max(state: Nim) -> Nimply:\n",
    "    \"\"\"Pick always one from the row with the highest number of sticks\"\"\"\n",
    "    actual_status = [(index, val) for index, val in enumerate(state._rows) if val > 0]\n",
    "    tupla_min_sticks = max(actual_status, key=lambda x: x[1])\n",
    "    return Nimply(*(tupla_min_sticks[0], 1) )\n",
    "\n",
    "def last_shot(state: Nim) -> Nimply:\n",
    "    counter_1 = state._rows.count(1)\n",
    "\n",
    "    elemento_da_trovare = next((x for x in state._rows if x != 0 and x != 1), 1)\n",
    "    indice = state._rows.index(elemento_da_trovare)\n",
    "\n",
    "    if((counter_1 % 2) == 1):\n",
    "        return Nimply(*(indice, state._rows[indice]) )\n",
    "    elif((counter_1 % 2) == 0) :        \n",
    "        return Nimply(*(indice, state._rows[indice]-1) )\n",
    "\n",
    "def two_from_max(state):\n",
    "    actual_status = [(index, val) for index, val in enumerate(state._rows) if val > 0]\n",
    "    tupla_min_sticks = max(actual_status, key=lambda x: x[1])\n",
    "    tot=2\n",
    "    if(tupla_min_sticks[1] < tot):\n",
    "        tot = 1\n",
    "    return Nimply(*(tupla_min_sticks[0], tot) )\n",
    "\n",
    "def almost_all_from_max(state):\n",
    "    actual_status = [(index, val) for index, val in enumerate(state._rows) if val > 0]\n",
    "    tupla_min_sticks = max(actual_status, key=lambda x: x[1])\n",
    "    tot = tupla_min_sticks[1] - 1\n",
    "    if(tot == 0):\n",
    "        tot = 1\n",
    "    return Nimply(*(tupla_min_sticks[0], tot) )\n",
    "\n",
    "my_strategies = [all_from_min, all_from_max, one_from_min, one_from_max, last_shot, two_from_max, almost_all_from_max]\n",
    "\n",
    "def adaptive_strategies(state: Nim, ind: Individual):\n",
    "   \n",
    "    # Genera un numero casuale tra 0 e 1\n",
    "    random_number = uniform(0, 1)\n",
    "\n",
    "    # Calcola le probabilità cumulative\n",
    "    cumulative_probabilities = []\n",
    "    sum_tmp = 0\n",
    "    for el in ind.genotype:\n",
    "        sum_tmp += el\n",
    "        cumulative_probabilities.append(sum_tmp)\n",
    "        \n",
    "    # Trova l'indice della prima probabilità cumulativa maggiore del numero casuale generato\n",
    "    selected_index = next(i for i, p in enumerate(cumulative_probabilities) if p >= random_number)\n",
    "\n",
    "    # Chiama la funzione corrispondente all'indice selezionato\n",
    "    return my_strategies[selected_index](state)\n",
    "    \n",
    "    '''\n",
    "    if(random() < ind.genotype[0]):\n",
    "        return all_from_min(state)\n",
    "    elif(random() < ind.genotype[0] + ind.genotype[1]):\n",
    "        return all_from_max(state)    \n",
    "    elif(random() < ind.genotype[0] + ind.genotype[1] + ind.genotype[2]):\n",
    "        return one_from_min(state)\n",
    "    elif(random() < ind.genotype[0] + ind.genotype[1] + ind.genotype[2] + ind.genotype[3]):\n",
    "        return one_from_max(state)\n",
    "    elif(random() < ind.genotype[0] + ind.genotype[1] + ind.genotype[2] + ind.genotype[3] +  ind.genotype[4]):\n",
    "        return last_shot(state)\n",
    "    elif(random() < ind.genotype[0] + ind.genotype[1] + ind.genotype[2] + ind.genotype[3] +  ind.genotype[4] + ind.genotype[5]):\n",
    "        return two_from_max(state)\n",
    "    elif(random() < ind.genotype[0] + ind.genotype[1] + ind.genotype[2] + ind.genotype[3] +  ind.genotype[4] + ind.genotype[5] + ind.genotype[6]):\n",
    "        return almost_all_from_max(state)\n",
    "     '''"
   ]
  },
  {
   "cell_type": "code",
   "execution_count": 498,
   "metadata": {},
   "outputs": [],
   "source": [
    "def fitness(state: Nim, phenotype: Individual):\n",
    "    total_wins = 0\n",
    "\n",
    "    #the strategies of players\n",
    "    strategy = (adaptive_strategies, optimal)\n",
    "\n",
    "    for _ in range(NUM_GAMES):\n",
    "        #create new game\n",
    "        nim = deepcopy(state) # Nim(5)  # Crea un nuovo gioco\n",
    "        \n",
    "        player = 0\n",
    "        while nim:\n",
    "            #get the move (of player x) to do with the associated strategy\n",
    "            # pass the nim for make the choose\n",
    "            if(strategy[player] == adaptive_strategies):\n",
    "                ply = strategy[player](nim, phenotype)\n",
    "                strategy = (optimal, optimal)\n",
    "            else:\n",
    "                ply = strategy[player](nim)\n",
    "            # do the move that is previous calcolated\n",
    "            nim.nimming(ply)\n",
    "            #change the player turn\n",
    "            player = 1 - player\n",
    "\n",
    "        # Se il giocatore 0 (la strategia) ha vinto, incrementa il conteggio delle vittorie\n",
    "        if player == 0:\n",
    "            total_wins += 1\n",
    "\n",
    "    # La fitness è il numero totale di partite vinte\n",
    "    return total_wins"
   ]
  },
  {
   "cell_type": "code",
   "execution_count": 499,
   "metadata": {},
   "outputs": [],
   "source": [
    "def genera_vettore(n):\n",
    "    vet = []\n",
    "    tot = 0\n",
    "    for i in range(n):\n",
    "        dado = round(uniform(0, 1), 1)\n",
    "        if(tot+dado <= 1):\n",
    "            vet.append(dado)\n",
    "            tot = tot + dado\n",
    "        else: \n",
    "            vet.append(1-tot)\n",
    "            for c in range(i+1, n):\n",
    "                vet.append(0)\n",
    "            break\n",
    "    return vet\n",
    "\n",
    "def adaptive(state: Nim) -> Nimply:\n",
    "    #initial population\n",
    "    population = [ Individual(fitness=None, genotype=genera_vettore(len(my_strategies))) for _ in range(POPULATION_SIZE) ]\n",
    "    #calculate fitness\n",
    "    for i in population:\n",
    "        i.fitness = fitness(state, i)\n",
    "\n",
    "    for gen in range(GENERATIONS):\n",
    "        # Genera una nuova popolazione combinando e mutando i migliori individui\n",
    "        offspring = list()\n",
    "        for _ in range(OFFSPRING_SIZE):\n",
    "\n",
    "            # Applica la mutazione\n",
    "            if random() < MUTATION_PROBABILITY:\n",
    "                #mutation  # add more clever mutation\n",
    "                parent = select_parent(population)\n",
    "                child = mutate(parent)\n",
    "            else:\n",
    "                #xOver  #add more xOver\n",
    "                parent1 = select_parent(population)\n",
    "                parent2 = select_parent(population)\n",
    "                child = one_cut_xover(parent1,parent2)            \n",
    "\n",
    "            offspring.append(child)\n",
    "        \n",
    "        # Aggiorna la popolazione\n",
    "        population = offspring\n",
    "\n",
    "        #valutate individuals\n",
    "        # Evaluate the fitness of each individual in the population\n",
    "        for individual in population:\n",
    "            individual.fitness = fitness(state, individual)\n",
    "\n",
    "\n",
    "        population.extend(offspring)\n",
    "        # Select the best individuals\n",
    "        population.sort(key = lambda i: i.fitness, reverse=True)\n",
    "        \n",
    "        #Survival Selection\n",
    "        population = population[:POPULATION_SIZE]\n",
    "\n",
    "    # Ottieni il miglior individuo\n",
    "    best_individual = population[0]\n",
    "\n",
    "    print(best_individual.genotype[0], best_individual.genotype[1], best_individual.genotype[2], best_individual.genotype[3], best_individual.genotype[4], best_individual.genotype[5], best_individual.genotype[6])\n",
    "    \n",
    "    #return adaptive_strategies(state, best_individual)\n",
    "\n",
    "    index_of_best = best_individual.genotype.index(max(best_individual.genotype))\n",
    "    return my_strategies[index_of_best](state)"
   ]
  },
  {
   "cell_type": "markdown",
   "metadata": {},
   "source": [
    "## Oversimplified match"
   ]
  },
  {
   "cell_type": "code",
   "execution_count": 500,
   "metadata": {},
   "outputs": [
    {
     "name": "stderr",
     "output_type": "stream",
     "text": [
      "INFO:root:init : <1 3 5 7 9>\n",
      "INFO:root:ply: player 0 plays Nimply(row=0, num_objects=1)\n",
      "INFO:root:status: <0 3 5 7 9>\n",
      "INFO:root:ply: player 1 plays Nimply(row=4, num_objects=2)\n",
      "INFO:root:status: <0 3 5 7 7>\n"
     ]
    },
    {
     "name": "stdout",
     "output_type": "stream",
     "text": [
      "0.9 0.1 0 0 0.0 0 0\n"
     ]
    },
    {
     "name": "stderr",
     "output_type": "stream",
     "text": [
      "INFO:root:ply: player 0 plays Nimply(row=3, num_objects=7)\n",
      "INFO:root:status: <0 3 5 0 7>\n",
      "INFO:root:ply: player 1 plays Nimply(row=4, num_objects=7)\n",
      "INFO:root:status: <0 3 5 0 0>\n"
     ]
    },
    {
     "name": "stdout",
     "output_type": "stream",
     "text": [
      "0.1 0.6 0.3 0 0 0 0\n"
     ]
    },
    {
     "name": "stderr",
     "output_type": "stream",
     "text": [
      "INFO:root:ply: player 0 plays Nimply(row=1, num_objects=3)\n",
      "INFO:root:status: <0 0 5 0 0>\n",
      "INFO:root:ply: player 1 plays Nimply(row=2, num_objects=2)\n",
      "INFO:root:status: <0 0 3 0 0>\n"
     ]
    },
    {
     "name": "stdout",
     "output_type": "stream",
     "text": [
      "0.5 0.5 0 0 0 0 0\n"
     ]
    },
    {
     "name": "stderr",
     "output_type": "stream",
     "text": [
      "INFO:root:ply: player 0 plays Nimply(row=2, num_objects=3)\n",
      "INFO:root:status: <0 0 0 0 0>\n",
      "INFO:root:status: Player 1 won!\n",
      "INFO:root:init : <1 3 5 7 9>\n"
     ]
    },
    {
     "name": "stdout",
     "output_type": "stream",
     "text": [
      "0.3 0.3 0.2 0.2 0.0 0.0 0\n",
      "win_0:  0 win_1:  1\n"
     ]
    }
   ],
   "source": [
    "logging.getLogger().setLevel(logging.INFO)\n",
    "\n",
    "#the strategies of players\n",
    "strategy = (adaptive, optimal)\n",
    "win_0 = 0\n",
    "win_1 = 0\n",
    "for i in range(100):\n",
    "\n",
    "    #create nim game\n",
    "    nim = Nim(5)\n",
    "    logging.info(f\"init : {nim}\")\n",
    "\n",
    "    #choose the player who will start\n",
    "    player = 0\n",
    "\n",
    "\n",
    "    #play the game while there are stiks to pic\n",
    "    while nim:\n",
    "        #get the move (of player x) to do with the associated strategy\n",
    "        # pass the nim for make the choose\n",
    "        ply = strategy[player](nim)\n",
    "        logging.info(f\"ply: player {player} plays {ply}\")\n",
    "        # do the move that is previous calcolated\n",
    "        nim.nimming(ply)\n",
    "        logging.info(f\"status: {nim}\")\n",
    "        #change the player turn\n",
    "        player = 1 - player\n",
    "    logging.info(f\"status: Player {player} won!\")\n",
    "    if(player == 0):\n",
    "        win_0 = win_0 + 1\n",
    "    else:\n",
    "        win_1 = win_1 + 1\n",
    "\n",
    "    print(\"win_0: \",win_0,\"win_1: \", win_1)\n"
   ]
  },
  {
   "cell_type": "code",
   "execution_count": null,
   "metadata": {},
   "outputs": [],
   "source": [
    "#TO DO\n",
    "# giocatore che inizia random, strategia avversaria random o mista"
   ]
  }
 ],
 "metadata": {
  "kernelspec": {
   "display_name": "Python 3.10.7 ('ci22-dPIXJ0_o-py3.10')",
   "language": "python",
   "name": "python3"
  },
  "language_info": {
   "codemirror_mode": {
    "name": "ipython",
    "version": 3
   },
   "file_extension": ".py",
   "mimetype": "text/x-python",
   "name": "python",
   "nbconvert_exporter": "python",
   "pygments_lexer": "ipython3",
   "version": "3.10.5"
  },
  "vscode": {
   "interpreter": {
    "hash": "10197e8e2f2aa67e2c349105091c77f4cd384fce4877865f002d9ec653f96bc0"
   }
  }
 },
 "nbformat": 4,
 "nbformat_minor": 2
}
