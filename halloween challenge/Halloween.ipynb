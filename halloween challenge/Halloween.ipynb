{
 "cells": [
  {
   "cell_type": "markdown",
   "id": "185f9931-b384-4fdc-a5b2-eea785428bb8",
   "metadata": {},
   "source": [
    "Copyright **`(c)`** 2023 Giovanni Squillero `<giovanni.squillero@polito.it>`  \n",
    "[`https://github.com/squillero/computational-intelligence`](https://github.com/squillero/computational-intelligence)  \n",
    "Free for personal or classroom use; see [`LICENSE.md`](https://github.com/squillero/computational-intelligence/blob/master/LICENSE.md) for details.  "
   ]
  },
  {
   "cell_type": "code",
   "execution_count": 95,
   "id": "3ffe7245-e849-41d0-9698-5f0e0b83fee9",
   "metadata": {},
   "outputs": [],
   "source": [
    "from itertools import product\n",
    "from random import random, randint, shuffle, seed, choice\n",
    "import numpy as np\n",
    "from scipy import sparse\n",
    "from functools import reduce\n",
    "from copy import copy\n",
    "import math"
   ]
  },
  {
   "cell_type": "code",
   "execution_count": 44,
   "id": "6f03bd67-78a0-4d72-95b7-77a918727b91",
   "metadata": {},
   "outputs": [],
   "source": [
    "def make_set_covering_problem(num_points, num_sets, density):\n",
    "    \"\"\"Returns a sparse array where rows are sets and columns are the covered items\"\"\"\n",
    "    seed(num_points*2654435761+num_sets+density)\n",
    "    sets = sparse.lil_array((num_sets, num_points), dtype=bool)\n",
    "    for s, p in product(range(num_sets), range(num_points)):\n",
    "        if random() < density:\n",
    "            sets[s, p] = True\n",
    "    for p in range(num_points):\n",
    "        sets[randint(0, num_sets-1), p] = True\n",
    "    return sets"
   ]
  },
  {
   "cell_type": "markdown",
   "id": "82b0be37-21d9-492d-9a1d-cf0cdf0ddd76",
   "metadata": {},
   "source": [
    "# Halloween Challenge\n",
    "\n",
    "Find the best solution with the fewest calls to the fitness functions for:\n",
    "\n",
    "* `num_points = [100, 1_000, 5_000]`\n",
    "* `num_sets = num_points`\n",
    "* `density = [.3, .7]` "
   ]
  },
  {
   "cell_type": "code",
   "execution_count": 45,
   "metadata": {},
   "outputs": [],
   "source": [
    "NUM_POINTS = 100\n",
    "NUM_SETS = NUM_POINTS\n",
    "DENSITY = 0.3\n",
    "NUM_STEPS = 10_000\n"
   ]
  },
  {
   "cell_type": "code",
   "execution_count": 46,
   "id": "221ffdba-5d3d-48cc-bd08-45ccc9366ea6",
   "metadata": {},
   "outputs": [],
   "source": [
    "SETS = make_set_covering_problem(NUM_POINTS, NUM_SETS, DENSITY)\n",
    "#print(\"Element at row=42 and column=42:\", SETS[42, 42])"
   ]
  },
  {
   "cell_type": "markdown",
   "metadata": {},
   "source": [
    "# Hill climbing\n",
    "\n"
   ]
  },
  {
   "cell_type": "code",
   "execution_count": 113,
   "metadata": {},
   "outputs": [],
   "source": [
    "def fitness1(state):\n",
    "    cost = sum(state)\n",
    "    valid = np.all(\n",
    "        reduce(\n",
    "            np.logical_or,\n",
    "            [SETS.toarray()[i] for i, t in enumerate(state) if t],\n",
    "            np.array([False for _ in range(NUM_POINTS)]),\n",
    "        )\n",
    "    )\n",
    "    return valid, -cost\n",
    "\n",
    "def fitness2(state):\n",
    "    cost = sum(state)\n",
    "    valid = np.sum(\n",
    "        reduce(\n",
    "            np.logical_or,\n",
    "            [SETS.toarray()[i] for i, t in enumerate(state) if t],\n",
    "            np.array([False for _ in range(NUM_POINTS)]),\n",
    "        )\n",
    "    )\n",
    "    return valid, -cost\n",
    "\n",
    "def fitness3(state):\n",
    "    cost = sum(state)\n",
    "    valid = np.sum(\n",
    "        reduce(\n",
    "            np.logical_or,\n",
    "            [SETS.toarray()[i] for i, t in enumerate(state) if t],\n",
    "            np.array([False for _ in range(NUM_POINTS)]),\n",
    "        )\n",
    "    )\n",
    "    return valid, cost\n",
    "\n",
    "fitness = fitness2"
   ]
  },
  {
   "cell_type": "code",
   "execution_count": 48,
   "id": "6492337b-8429-472d-9c3e-c79c5b46da54",
   "metadata": {},
   "outputs": [],
   "source": [
    "def tweak(state):\n",
    "    new_state = copy(state)\n",
    "    index = randint(0, NUM_SETS - 1)\n",
    "    new_state[index] = not new_state[index]\n",
    "    return new_state"
   ]
  },
  {
   "cell_type": "code",
   "execution_count": null,
   "metadata": {},
   "outputs": [],
   "source": [
    "def local_search(current_state):\n",
    "    # Implementa la tua ricerca locale qui\n",
    "    # Questa dovrebbe migliorare la soluzione fornita\n",
    "    for step in range(NUM_STEPS):\n",
    "        new_state = tweak(current_state)\n",
    "        if fitness(new_state) >= fitness(current_state):\n",
    "            current_state = new_state\n",
    "            print(fitness(current_state))\n",
    "    return current_state\n",
    "\n",
    "current_state = [False for _ in range(NUM_SETS)]\n",
    "print(fitness(local_search(current_state)))"
   ]
  },
  {
   "cell_type": "markdown",
   "metadata": {},
   "source": [
    "# Simulated annealing\n",
    "\n"
   ]
  },
  {
   "cell_type": "code",
   "execution_count": null,
   "metadata": {},
   "outputs": [],
   "source": [
    "current_state = [False for _ in range(NUM_SETS)]\n",
    "print(fitness(current_state))\n",
    "\n",
    "for step in range(NUM_STEPS):\n",
    "    new_state = tweak(current_state)\n",
    "    x, y = fitness(current_state)\n",
    "    x1, y1, = fitness(new_state)\n",
    "\n",
    "    probability =  1 / math.exp( ( (x-y) - (x1-y1) ) / ( (NUM_STEPS + 1) - step) )\n",
    "    print (\"===>\", probability, (NUM_STEPS + 1) - step )\n",
    "\n",
    "    if (probability >= random() or fitness(new_state) >= fitness(current_state) ):\n",
    "        current_state = new_state\n",
    "        print(fitness(current_state))"
   ]
  },
  {
   "cell_type": "code",
   "execution_count": null,
   "metadata": {},
   "outputs": [],
   "source": [
    "#temp compresa fra 0 e 1\n",
    "\n",
    "current_state = [False for _ in range(NUM_SETS)]\n",
    "print(fitness(current_state))\n",
    "\n",
    "for step in range(NUM_STEPS):\n",
    "    new_state = tweak(current_state)\n",
    "    x, y = fitness(current_state)\n",
    "    x1, y1, = fitness(new_state)\n",
    "\n",
    "    temp = (( (NUM_STEPS + 1) - step)  / NUM_STEPS )\n",
    "    #probability =  1 / math.exp( ( (x-y) - (x1-y1) ) /  temp\n",
    "    probability = temp\n",
    "\n",
    "    print (\"===>\", probability, (NUM_STEPS + 1) - step )\n",
    "\n",
    "    if (probability >= random() or fitness(new_state) >= fitness(current_state) ):\n",
    "        current_state = new_state\n",
    "        print(fitness(current_state))"
   ]
  },
  {
   "cell_type": "markdown",
   "metadata": {},
   "source": [
    "# Tabu "
   ]
  },
  {
   "cell_type": "code",
   "execution_count": 105,
   "metadata": {},
   "outputs": [],
   "source": [
    "NUM_NEIGHBORS = 20\n",
    "TABU_LIST_MAX_SIZE = 5"
   ]
  },
  {
   "cell_type": "code",
   "execution_count": 106,
   "metadata": {},
   "outputs": [],
   "source": [
    "def is_valid(state):\n",
    "    a, b = fitness(state)\n",
    "    if a == NUM_POINTS:\n",
    "        return True\n",
    "    return False"
   ]
  },
  {
   "cell_type": "code",
   "execution_count": null,
   "metadata": {},
   "outputs": [],
   "source": [
    "tabu_list = []\n",
    "current_state = [choice([True, False]) for _ in range(NUM_SETS)]\n",
    "\n",
    "for iteration in range(NUM_STEPS):\n",
    "    neighbors = [tweak(current_state) for _ in range(NUM_NEIGHBORS)]\n",
    "    \n",
    "    # Seleziona candidati validi non presenti nella lista tabù\n",
    "    candidates = [sol for sol in neighbors if is_valid(sol) and sol not in tabu_list]\n",
    "    \n",
    "    if not candidates:\n",
    "        # Nessun candidato valido disponibile, potrebbe essere un punto di arresto\n",
    "        break\n",
    "    \n",
    "    # Valuta candidati e scegli il migliore\n",
    "    best_candidate = min(candidates, key=fitness3)\n",
    "    \n",
    "    # Aggiorna la lista tabù con la mossa corrente\n",
    "    tabu_list.append(best_candidate)\n",
    "    \n",
    "    # Rimuovi le mosse più vecchie dalla lista tabù se è troppo lunga\n",
    "    if len(tabu_list) > TABU_LIST_MAX_SIZE:\n",
    "        tabu_list.pop(0)\n",
    "    \n",
    "    # Aggiorna la soluzione corrente con il miglior candidato\n",
    "    current_state = best_candidate\n",
    "\n",
    "    print(fitness(current_state))\n",
    "\n"
   ]
  },
  {
   "cell_type": "markdown",
   "metadata": {},
   "source": [
    "# Iterated local search"
   ]
  },
  {
   "cell_type": "code",
   "execution_count": 114,
   "metadata": {},
   "outputs": [],
   "source": [
    "NUM_ITERATIONS = 10"
   ]
  },
  {
   "cell_type": "code",
   "execution_count": 115,
   "metadata": {},
   "outputs": [],
   "source": [
    "def new_starting_position(global_, last):\n",
    "    if global_ is None:\n",
    "        # Genera una nuova soluzione casuale se la soluzione globale è nulla\n",
    "        return [choice([True, False]) for _ in range(NUM_SETS)]\n",
    "    else:\n",
    "        # Restituisce la soluzione globale corrente se non è nulla\n",
    "        return global_"
   ]
  },
  {
   "cell_type": "code",
   "execution_count": null,
   "metadata": {},
   "outputs": [],
   "source": [
    "global_solution = None\n",
    "    \n",
    "for iteration in range(NUM_ITERATIONS):\n",
    "    # Fase di miglioramento locale\n",
    "    current_state = new_starting_position(global_solution, None)\n",
    "    current_state = local_search(current_state)\n",
    "    \n",
    "    # Fase di perturbazione\n",
    "    new_state = tweak(current_state)\n",
    "    \n",
    "    # Seconda fase di miglioramento locale sulla soluzione perturbata\n",
    "    new_state = local_search(new_state)\n",
    "    \n",
    "    # Accettazione della soluzione perturbata in base alla funzione obiettivo\n",
    "    if fitness(new_state) < fitness(current_state):\n",
    "        current_state = new_state\n",
    "    \n",
    "    # Aggiornamento della soluzione globale se necessario\n",
    "    if global_solution is None or fitness(current_state) < fitness(global_solution):\n",
    "        global_solution = current_state\n",
    "    print(fitness(global_solution), iteration)\n",
    "\n",
    "print(fitness(global_solution))"
   ]
  }
 ],
 "metadata": {
  "kernelspec": {
   "display_name": "Python 3 (ipykernel)",
   "language": "python",
   "name": "python3"
  },
  "language_info": {
   "codemirror_mode": {
    "name": "ipython",
    "version": 3
   },
   "file_extension": ".py",
   "mimetype": "text/x-python",
   "name": "python",
   "nbconvert_exporter": "python",
   "pygments_lexer": "ipython3",
   "version": "3.11.6"
  }
 },
 "nbformat": 4,
 "nbformat_minor": 5
}
